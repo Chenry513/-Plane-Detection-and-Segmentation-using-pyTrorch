{
  "cells": [
    {
      "cell_type": "markdown",
      "metadata": {
        "id": "QHnVupBBn9eR"
      },
      "source": [
        "\n",
        "# Assignment 3\n",
        "\n",
        "This is a template notebook for Assignment 3.\n"
      ]
    },
    {
      "cell_type": "markdown",
      "metadata": {
        "id": "vM54r6jlKTII"
      },
      "source": [
        "## Install dependencies and initialization"
      ]
    },
    {
      "cell_type": "code",
      "execution_count": null,
      "metadata": {
        "id": "9_FzH13EjseR"
      },
      "outputs": [],
      "source": [
        "# The next 8 lines added to be compatible with version changes (2022/10/13).\n",
        "# change cuda to 11.1\n",
        "import os\n",
        "p = os.getenv('PATH')\n",
        "ld = os.getenv('LD_LIBRARY_PATH')\n",
        "os.environ['PATH'] = f\"/usr/local/cuda-11.3/bin:{p}\"\n",
        "os.environ['LD_LIBRARY_PATH'] = f\"/usr/local/cuda-11.3/lib64:{ld}\"\n",
        "# change pytorch to 1.9.0 compiled with cuda 11.1\n",
        "%pip install torch==1.11.0+cu113 torchvision==0.12.0+cu113 torchaudio==0.11.0 --extra-index-url https://download.pytorch.org/whl/cu113\n",
        "\n",
        "\n",
        "# install dependencies:\n",
        "%pip install pyyaml pycocotools>=2.0.1\n",
        "# !pip install detectron2 -f https://dl.fbaipublicfiles.com/detectron2/wheels/cu101/torch1.6/index.html\n",
        "%pip install 'git+https://github.com/facebookresearch/detectron2.git'"
      ]
    },
    {
      "cell_type": "code",
      "execution_count": null,
      "metadata": {
        "id": "dqAUb5Y12qXt"
      },
      "outputs": [],
      "source": [
        "!pwd # shows current directory\n",
        "!ls  # shows all files in this directory\n",
        "!nvidia-smi # shows the specs and the current status of the allocated GPU"
      ]
    },
    {
      "cell_type": "code",
      "execution_count": null,
      "metadata": {
        "colab": {
          "base_uri": "https://localhost:8080/"
        },
        "id": "b-i4hmGYk1dL",
        "outputId": "f56e9818-d093-46d8-9c51-c45fc02f6461"
      },
      "outputs": [
        {
          "output_type": "execute_result",
          "data": {
            "text/plain": [
              "<Logger detectron2 (DEBUG)>"
            ]
          },
          "metadata": {},
          "execution_count": 3
        }
      ],
      "source": [
        "# import some common libraries\n",
        "from google.colab.patches import cv2_imshow\n",
        "from sklearn.metrics import jaccard_score\n",
        "from PIL import Image, ImageDraw\n",
        "from tqdm.notebook import tqdm\n",
        "import pandas as pd\n",
        "import numpy as np\n",
        "import datetime\n",
        "import random\n",
        "import json\n",
        "import cv2\n",
        "import csv\n",
        "import os\n",
        "\n",
        "# import some common pytorch utilities\n",
        "from torch.utils.data import Dataset, DataLoader\n",
        "import torchvision.transforms as transforms\n",
        "from torch.autograd import Variable\n",
        "import torch.nn.functional as F\n",
        "import torch.nn as nn\n",
        "import torch\n",
        "\n",
        "# import some common detectron2 utilities\n",
        "import detectron2\n",
        "from detectron2 import model_zoo\n",
        "from detectron2.config import get_cfg\n",
        "from detectron2.structures import BoxMode\n",
        "from detectron2.engine import DefaultTrainer\n",
        "from detectron2.engine import DefaultPredictor\n",
        "from detectron2.utils.logger import setup_logger\n",
        "from detectron2.utils.visualizer import ColorMode\n",
        "from detectron2.utils.visualizer import Visualizer\n",
        "from detectron2.data import build_detection_test_loader\n",
        "from detectron2.data import MetadataCatalog, DatasetCatalog\n",
        "from detectron2.evaluation import COCOEvaluator, inference_on_dataset\n",
        "setup_logger()"
      ]
    },
    {
      "cell_type": "code",
      "execution_count": null,
      "metadata": {
        "id": "tUA_j6AF1L5Y"
      },
      "outputs": [],
      "source": [
        "# Make sure that GPU is available for your notebook.\n",
        "# Otherwise, you need to update the settungs in Runtime -> Change runtime type -> Hardware accelerator\n",
        "torch.cuda.is_available()"
      ]
    },
    {
      "cell_type": "code",
      "execution_count": null,
      "metadata": {
        "id": "ZyAvNCJMmvFF"
      },
      "outputs": [],
      "source": [
        "# You need to mount your google drive in order to load the data:\n",
        "from google.colab import drive\n",
        "drive.mount('/content/drive')\n",
        "# Put all the corresponding data files in a data folder and put the data folder in a same directory with this notebook.\n",
        "# Also create an output directory for your files such as the trained models and the output images."
      ]
    },
    {
      "cell_type": "code",
      "execution_count": null,
      "metadata": {
        "id": "A_Di_fgL4HSv"
      },
      "outputs": [],
      "source": [
        "# Define the location of current directory, which should contain data/train, data/test, and data/train.json.\n",
        "# TODO: approx 1 line\n",
        "BASE_DIR = '/content/drive/My Drive/CMPT_CV_lab3'\n",
        "OUTPUT_DIR = '{}/output'.format(BASE_DIR)\n",
        "os.makedirs(OUTPUT_DIR, exist_ok=True)"
      ]
    },
    {
      "cell_type": "code",
      "execution_count": null,
      "metadata": {
        "id": "9Z1G31mC7AIv"
      },
      "outputs": [],
      "source": []
    },
    {
      "cell_type": "code",
      "execution_count": null,
      "metadata": {
        "id": "90MxG_eRla0W",
        "colab": {
          "base_uri": "https://localhost:8080/"
        },
        "outputId": "b85e5dce-cf5a-47ab-e8c0-f1d9e82c4ed4"
      },
      "outputs": [
        {
          "output_type": "stream",
          "name": "stdout",
          "text": [
            "test  train  train.json\n"
          ]
        }
      ],
      "source": [
        "os.chdir(\"/content/drive/My Drive/CMPT_CV_lab3\")\n",
        "!mkdir /localData\n",
        "!cp -r data/test /localData/\n",
        "!cp -r data/train /localData/\n",
        "!cp data/train.json /localData/\n",
        "!ls /localData"
      ]
    },
    {
      "cell_type": "markdown",
      "metadata": {
        "id": "Vk4gID50K03a"
      },
      "source": [
        "## Part 1: Object Detection"
      ]
    },
    {
      "cell_type": "markdown",
      "metadata": {
        "id": "xRV-KFJzlur4"
      },
      "source": [
        "### Data Loader"
      ]
    },
    {
      "cell_type": "code",
      "execution_count": null,
      "metadata": {
        "id": "dq9GY37ml1kr"
      },
      "outputs": [],
      "source": [
        "'''\n",
        "# This function should return a list of data samples in which each sample is a dictionary.\n",
        "# Make sure to select the correct bbox_mode for the data\n",
        "# For the test data, you only have access to the images, therefore, the annotations should be empty.\n",
        "# Other values could be obtained from the image files.\n",
        "# TODO: approx 35 lines\n",
        "'''\n",
        "cIms = {}\n",
        "addedToCache = []\n",
        "localDir = \"/localData\"\n",
        "def load_detection_data(set_name):\n",
        "  data_dirs = '{}'.format(localDir)\n",
        "  dataset = []\n",
        "  added = []\n",
        "  if set_name == 'train':\n",
        "      json_file = os.path.join(data_dirs, 'train.json')\n",
        "      with open(json_file) as f:\n",
        "          imgs_anns = json.load(f)\n",
        "      for idx, v in enumerate(imgs_anns):\n",
        "        record = {}\n",
        "        filename = os.path.join(data_dirs , \"train\", v[\"file_name\"])\n",
        "\n",
        "\n",
        "        obj = {\n",
        "            \"bbox\": v[\"bbox\"],\n",
        "            \"bbox_mode\" : BoxMode.XYWH_ABS,\n",
        "            \"segmentation\": v[\"segmentation\"],\n",
        "            \"category_id\": 0\n",
        "        }\n",
        "        if filename in added:\n",
        "          i = added.index(filename)\n",
        "          dataset[i][\"annotations\"].append(obj)\n",
        "        else:\n",
        "          img = cv2.imread(filename)\n",
        "          height, width = img.shape[:2]\n",
        "          record[\"file_name\"] = filename\n",
        "          added.append(filename)\n",
        "          record[\"image_id\"] = idx\n",
        "          record[\"height\"] = height\n",
        "          record[\"width\"] = width\n",
        "          record[\"annotations\"] = [obj]\n",
        "          dataset.append(record)\n",
        "  elif set_name == 'test':\n",
        "    test_file = os.path.join(data_dirs, 'test')\n",
        "    for idx, filename in enumerate(os.listdir(test_file)):\n",
        "      record = {}\n",
        "      fName = os.path.join(data_dirs, 'test', filename)\n",
        "      img = cv2.imread(fName)\n",
        "      height, width = img.shape[:2]\n",
        "      record[\"file_name\"] = fName\n",
        "      record[\"image_id\"] = idx\n",
        "      record[\"height\"] = height\n",
        "      record[\"width\"] = width\n",
        "      record[\"annotations\"] = []\n",
        "      dataset.append(record)\n",
        "\n",
        "\n",
        "\n",
        "  return dataset\n",
        "\n",
        "testData = load_detection_data(\"test\")\n",
        "TVdata = load_detection_data(\"train\")\n",
        "train_len = round(0.7 * len(TVdata))\n",
        "trainData, valData = TVdata[:train_len], TVdata[train_len:]\n",
        "\n",
        "def get_detection_data(set_name):\n",
        "  if set_name == \"test\":\n",
        "    return testData\n",
        "  elif set_name == \"train\":\n",
        "    return trainData\n",
        "\n",
        "  elif set_name == \"val\":\n",
        "    return valData\n",
        "\n",
        "\n"
      ]
    },
    {
      "cell_type": "code",
      "execution_count": null,
      "metadata": {
        "id": "xCH-2mWxDVVu"
      },
      "outputs": [],
      "source": [
        "'''\n",
        "# Remember to add your dataset to DatasetCatalog and MetadataCatalog\n",
        "# Consdier \"data_detection_train\" and \"data_detection_test\" for registration\n",
        "# You can also add an optional \"data_detection_val\" for your validation by spliting the training data\n",
        "# TODO: approx 5 lines\n",
        "'''\n",
        "for d in [\"train\", \"test\", \"val\"]:\n",
        "  DatasetCatalog.register(\"data_detection_\" + d, lambda d=d: get_detection_data(d))\n",
        "  MetadataCatalog.get(\"data_detection_\" + d).set(thing_classes = [\"planes\"])\n",
        "mData = MetadataCatalog.get(\"data_detection_train\")\n",
        "\n"
      ]
    },
    {
      "cell_type": "code",
      "execution_count": null,
      "metadata": {
        "id": "qNSdXCL_DVAz"
      },
      "outputs": [],
      "source": [
        "# Visualize some samples using Visualizer to make sure that the function works correctly\n",
        "# TODO: approx 5 lines\n",
        "dataset_dicts = get_detection_data(\"train\")\n",
        "for d in random.sample(dataset_dicts, 3):\n",
        "    img = cv2.imread(d[\"file_name\"])\n",
        "\n",
        "    visualizer = Visualizer(img[:, :, ::-1], mData, scale=0.2)\n",
        "    out = visualizer.draw_dataset_dict(d)\n",
        "    cv2_imshow(out.get_image()[:, :, ::-1])\n"
      ]
    },
    {
      "cell_type": "markdown",
      "metadata": {
        "id": "uM1thbN-ntjI"
      },
      "source": [
        "### Set Configs"
      ]
    },
    {
      "cell_type": "code",
      "execution_count": null,
      "metadata": {
        "id": "HUjkwRsOn1O0"
      },
      "outputs": [],
      "source": [
        "'''\n",
        "# Set the configs for the detection part in here.\n",
        "# TODO: approx 15 lines\n",
        "'''\n",
        "cfg = get_cfg()\n",
        "cfg.OUTPUT_DIR = \"{}/output/\".format(BASE_DIR)\n",
        "cfg.merge_from_file(model_zoo.get_config_file(\"COCO-Detection/faster_rcnn_R_101_FPN_3x.yaml\"))\n",
        "cfg.DATASETS.TRAIN = (\"data_detection_train\",)\n",
        "cfg.DATASETS.TEST = ()\n",
        "\n",
        "#batch chnages to 4 reduce to 300 iterations\n",
        "cfg.DATALOADER.NUM_WORKERS = 2\n",
        "cfg.MODEL.WEIGHTS = model_zoo.get_checkpoint_url(\"COCO-Detection/faster_rcnn_R_101_FPN_3x.yaml\")\n",
        "cfg.SOLVER.IMS_PER_BATCH = 4\n",
        "cfg.SOLVER.BASE_LR = 0.00025\n",
        "cfg.SOLVER.MAX_ITER = 300\n",
        "cfg.SOLVER.STEPS = []\n",
        "cfg.MODEL.ROI_HEADS.BATCH_SIZE_PER_IMAGE = 512\n",
        "cfg.MODEL.ROI_HEADS.NUM_CLASSES = 1"
      ]
    },
    {
      "cell_type": "markdown",
      "metadata": {
        "id": "P4rql8pNokE4"
      },
      "source": [
        "### Training"
      ]
    },
    {
      "cell_type": "code",
      "source": [
        "#augmented data by normilizing by mean and standard deviation of data, also changed trainer from defult to detection trainer\n",
        "class DetectionTrainer(DefaultTrainer):\n",
        "    def train_loader(cfg):\n",
        "        mapper = DatasetMapper(cfg, is_train=True, augmentations=[\n",
        "            detectron2.data.Normalize(mean = [0.50867474, 0.5278123, 0.5297691],\n",
        "                                      std = [0.22613746, 0.22742623, 0.2254186])\n",
        "        ])\n",
        "        return build_detection_train_loader(cfg, mapper=mapper)"
      ],
      "metadata": {
        "id": "nfOvjh7YQg_Q"
      },
      "execution_count": null,
      "outputs": []
    },
    {
      "cell_type": "code",
      "execution_count": null,
      "metadata": {
        "id": "7d3KxiHO_0gb"
      },
      "outputs": [],
      "source": [
        "'''\n",
        "# Create a DefaultTrainer using the above config and train the model\n",
        "# TODO: approx 5 lines\n",
        "'''\n",
        "trainer = DetectionTrainer(cfg)\n",
        "trainer.resume_or_load(resume = False)\n",
        "trainer.train()\n"
      ]
    },
    {
      "cell_type": "code",
      "source": [
        "%load_ext tensorboard\n",
        "%tensorboard --logdir output"
      ],
      "metadata": {
        "id": "tfPU4SmEOKKe"
      },
      "execution_count": null,
      "outputs": []
    },
    {
      "cell_type": "markdown",
      "metadata": {
        "id": "fRVEiICco3SV"
      },
      "source": [
        "### Evaluation and Visualization"
      ]
    },
    {
      "cell_type": "code",
      "execution_count": null,
      "metadata": {
        "id": "VYCIXdMZvDYL",
        "colab": {
          "base_uri": "https://localhost:8080/"
        },
        "outputId": "09659ba5-ee3e-4e02-e3a3-0daf895dc692"
      },
      "outputs": [
        {
          "output_type": "stream",
          "name": "stdout",
          "text": [
            "[11/14 05:23:38 d2.checkpoint.detection_checkpoint]: [DetectionCheckpointer] Loading from /content/drive/My Drive/CMPT_CV_lab3/output/model_final.pth ...\n"
          ]
        }
      ],
      "source": [
        "'''\n",
        "# After training the model, you need to update cfg.MODEL.WEIGHTS\n",
        "# Define a DefaultPredictor\n",
        "'''\n",
        "\n",
        "\n",
        "cfg.MODEL.WEIGHTS = os.path.join(cfg.OUTPUT_DIR, 'model_final.pth')\n",
        "cfg.MODEL.ROI_HEADS.SCORE_THRESH_TEST = 0.6\n",
        "\n",
        "predictor = DefaultPredictor(cfg)\n",
        "\n"
      ]
    },
    {
      "cell_type": "code",
      "execution_count": null,
      "metadata": {
        "id": "_hRCf86KGi5v"
      },
      "outputs": [],
      "source": [
        "'''\n",
        "# Visualize the output for 3 random test samples\n",
        "# TODO: approx 10 lines\n",
        "'''\n",
        "dataset_dicts = get_detection_data(\"test\")\n",
        "for d in random.sample(dataset_dicts, 3):\n",
        "  img = cv2.imread(d[\"file_name\"])\n",
        "\n",
        "  outputs = predictor(img)\n",
        "  visualizer = Visualizer(img[:,:,::-1],\n",
        "                          metadata= mData,\n",
        "                          scale = 0.2,\n",
        "                          instance_mode=ColorMode.IMAGE_BW)\n",
        "  out = visualizer.draw_instance_predictions(outputs[\"instances\"].to(\"cpu\"))\n",
        "  cv2_imshow(out.get_image()[:,:,::-1])\n"
      ]
    },
    {
      "cell_type": "code",
      "execution_count": null,
      "metadata": {
        "id": "D0wRdlcKo6BD"
      },
      "outputs": [],
      "source": [
        "'''\n",
        "# Use COCOEvaluator and build_detection_train_loader\n",
        "# You can save the output predictions using inference_on_dataset\n",
        "# TODO: approx 5 lines\n",
        "'''\n",
        "evaluator = COCOEvaluator(\"data_detection_val\", output_dir=cfg.OUTPUT_DIR)\n",
        "val_loader = build_detection_test_loader(cfg, \"data_detection_val\")\n",
        "print(inference_on_dataset(trainer.model, val_loader, evaluator))\n"
      ]
    },
    {
      "cell_type": "markdown",
      "metadata": {
        "id": "EwYvbwcjpKBk"
      },
      "source": [
        "### Improvements\n",
        "\n",
        "For this part, you can bring any improvement which you have by adding new input parameters to the previous functions or defining new functions and variables."
      ]
    },
    {
      "cell_type": "code",
      "execution_count": null,
      "metadata": {
        "id": "xdR6KbCZpOlk"
      },
      "outputs": [],
      "source": [
        "'''\n",
        "# Bring any changes and updates regarding the improvement in here\n",
        "'''\n"
      ]
    },
    {
      "cell_type": "markdown",
      "metadata": {
        "id": "98_M4TooqSs2"
      },
      "source": [
        "## Part 2: Semantic Segmentation"
      ]
    },
    {
      "cell_type": "markdown",
      "metadata": {
        "id": "ByAEsMtIPLrO"
      },
      "source": [
        "### Data Loader"
      ]
    },
    {
      "cell_type": "code",
      "source": [
        "#cache the training data for speed\n",
        "cIms.clear()\n",
        "for t in trainData:\n",
        "  if(t[\"file_name\"] not in addedToCache):\n",
        "    im = cv2.imread(t[\"file_name\"])\n",
        "    addedToCache.append(t[\"file_name\"])\n",
        "    cIms[t[\"file_name\"]] = im\n"
      ],
      "metadata": {
        "id": "rLB_SvoT-pt7"
      },
      "execution_count": null,
      "outputs": []
    },
    {
      "cell_type": "code",
      "execution_count": null,
      "metadata": {
        "id": "peQ95zLuIpkk"
      },
      "outputs": [],
      "source": [
        "'''\n",
        "# Write a function that returns the cropped image and corresponding mask regarding the target bounding box\n",
        "# idx is the index of the target bbox in the data\n",
        "# high-resolution image could be passed or could be load from data['file_name']\n",
        "# You can use the mask attribute of detectron2.utils.visualizer.GenericMask\n",
        "#     to convert the segmentation annotations to binary masks\n",
        "# TODO: approx 10 lines\n",
        "'''\n",
        "\n",
        "from detectron2.utils.visualizer import GenericMask\n",
        "\n",
        "def get_instance_sample(data, idx, img=None):\n",
        "  height = data[\"height\"]\n",
        "  width = data[\"width\"]\n",
        "\n",
        "  annos = data[\"annotations\"][idx]\n",
        "\n",
        "  bx, by, bw, bh = annos[\"bbox\"]\n",
        "  segMask = annos[\"segmentation\"]\n",
        "  if (img == None):\n",
        "    img = cIms[data[\"file_name\"]]\n",
        "  obj_img = img[round(by): round(by + bh), round(bx): round(bx + bw)]\n",
        "  obj_mask = np.array(GenericMask(segMask, height, width).mask)\n",
        "  obj_mask = obj_mask[round(by): round(by + bh), round(bx): round(bx + bw)]\n",
        "\n",
        "  return obj_img, obj_mask\n",
        "\n",
        "#version to use for part 3 since the version for part 2 relies on the caching of the training set\n",
        "def get_instance_sample2(data, idx, img=None):\n",
        "  height = data[\"height\"]\n",
        "  width = data[\"width\"]\n",
        "\n",
        "  annos = data[\"annotations\"][idx]\n",
        "\n",
        "  bx, by, bw, bh = annos[\"bbox\"]\n",
        "  segMask = annos[\"segmentation\"]\n",
        "  if (img == None):\n",
        "    img = cv2.imread(data[\"file_name\"])\n",
        "  obj_img = img[round(by): round(by + bh), round(bx): round(bx + bw)]\n",
        "  obj_mask = np.array(GenericMask(segMask, height, width).mask)\n",
        "  obj_mask = obj_mask[round(by): round(by + bh), round(bx): round(bx + bw)]\n",
        "\n",
        "  return obj_img, obj_mask\n",
        "\n"
      ]
    },
    {
      "cell_type": "code",
      "execution_count": null,
      "metadata": {
        "id": "sxrc9X_pjzj-"
      },
      "outputs": [],
      "source": [
        "'''\n",
        "# We have provided a template data loader for your segmentation training\n",
        "# You need to complete the __getitem__() function before running the code\n",
        "# You may also need to add data augmentation or normalization in here\n",
        "'''\n",
        "\n",
        "class PlaneDataset(Dataset):\n",
        "  def __init__(self, set_name, data_list):\n",
        "      self.transforms = transforms.Compose([\n",
        "          transforms.ToTensor(), # Converting the image to tensor and change the image format (Channels-Last => Channels-First)\n",
        "      ])\n",
        "      self.set_name = set_name\n",
        "      self.data = data_list\n",
        "      self.instance_map = []\n",
        "      for i, d in enumerate(self.data):\n",
        "        for j in range(len(d['annotations'])):\n",
        "          self.instance_map.append([i,j])\n",
        "\n",
        "  '''\n",
        "  # you can change the value of length to a small number like 10 for debugging of your training procedure and overfeating\n",
        "  # make sure to use the correct length for the final training\n",
        "  '''\n",
        "  def __len__(self):\n",
        "      return len(self.instance_map)\n",
        "\n",
        "  def numpy_to_tensor(self, img, mask):\n",
        "    if self.transforms is not None:\n",
        "        img = self.transforms(img)\n",
        "    img = torch.tensor(img, dtype=torch.float)\n",
        "    mask = torch.tensor(mask, dtype=torch.float)\n",
        "    return img, mask.unsqueeze(0)\n",
        "\n",
        "\n",
        "  '''\n",
        "  # Complete this part by using get_instance_sample function\n",
        "  # make sure to resize the img and mask to a fixed size (for example 128*128)\n",
        "  # you can use \"interpolate\" function of pytorch or \"numpy.resize\"\n",
        "  # TODO: 5 lines\n",
        "  '''\n",
        "  def __getitem__(self, idx):\n",
        "    if torch.is_tensor(idx):\n",
        "        idx = idx.tolist()\n",
        "    idx = self.instance_map[idx]\n",
        "    data = self.data[idx[0]]\n",
        "    #instance map has index of data, index of annotation\n",
        "    img, mask = get_instance_sample(data, idx[1])\n",
        "\n",
        "    img = cv2.resize(img, dsize=(128, 128), interpolation=cv2.INTER_NEAREST)\n",
        "    mask = cv2.resize(mask, dsize=(128, 128), interpolation=cv2.INTER_NEAREST)\n",
        "\n",
        "    img, mask = self.numpy_to_tensor(img, mask)\n",
        "\n",
        "\n",
        "\n",
        "\n",
        "    return img, mask\n",
        "\n",
        "def get_plane_dataset(set_name='train', batch_size=2):\n",
        "    my_data_list = DatasetCatalog.get(\"data_detection_{}\".format(set_name))\n",
        "    dataset = PlaneDataset(set_name, my_data_list)\n",
        "    loader = DataLoader(dataset, batch_size=batch_size, num_workers=4,\n",
        "                                              pin_memory=True, shuffle=True)\n",
        "    return loader, dataset"
      ]
    },
    {
      "cell_type": "markdown",
      "metadata": {
        "id": "m6eH3NKaQQfc"
      },
      "source": [
        "### Network"
      ]
    },
    {
      "cell_type": "code",
      "execution_count": null,
      "metadata": {
        "id": "PeqR3s3dSBPN"
      },
      "outputs": [],
      "source": [
        "'''\n",
        "# convolution module as a template layer consists of conv2d layer, batch normalization, and relu activation\n",
        "'''\n",
        "class conv(nn.Module):\n",
        "    def __init__(self, in_ch, out_ch, activation=True):\n",
        "        super(conv, self).__init__()\n",
        "        if(activation):\n",
        "          self.layer = nn.Sequential(\n",
        "             nn.Conv2d(in_ch, out_ch, 3, padding=1),\n",
        "             nn.BatchNorm2d(out_ch),\n",
        "             nn.ReLU(inplace=True)\n",
        "          )\n",
        "        else:\n",
        "          self.layer = nn.Sequential(\n",
        "             nn.Conv2d(in_ch, out_ch, 3, padding=1)  ,\n",
        "             )\n",
        "\n",
        "    def forward(self, x):\n",
        "        x = self.layer(x)\n",
        "        return x\n",
        "\n",
        "\n",
        "'''\n",
        "# downsampling module equal to a conv module followed by a max-pool layer\n",
        "'''\n",
        "class down(nn.Module):\n",
        "    def __init__(self, in_ch, out_ch):\n",
        "        super(down, self).__init__()\n",
        "        self.layer = nn.Sequential(\n",
        "            conv(in_ch, out_ch),\n",
        "            nn.MaxPool2d(2)\n",
        "            )\n",
        "\n",
        "    def forward(self, x):\n",
        "        x = self.layer(x)\n",
        "        return x\n",
        "\n",
        "'''\n",
        "# upsampling module equal to a upsample function followed by a conv module\n",
        "'''\n",
        "class up(nn.Module):\n",
        "    def __init__(self, in_ch, out_ch, bilinear=False):\n",
        "        super(up, self).__init__()\n",
        "        if bilinear:\n",
        "            self.up = nn.Upsample(scale_factor=2, mode='bilinear', align_corners=True)\n",
        "        else:\n",
        "            self.up = nn.ConvTranspose2d(in_ch, in_ch, 2, stride=2)\n",
        "\n",
        "        self.conv = conv(in_ch, out_ch)\n",
        "\n",
        "    def forward(self, x):\n",
        "        y = self.up(x)\n",
        "        y = self.conv(y)\n",
        "        return y\n",
        "\n",
        "'''\n",
        "# the main model which you need to complete by using above modules.\n",
        "# you can also modify the above modules in order to improve your results.\n",
        "'''\n",
        "class MyModel(nn.Module):\n",
        "    def __init__(self):\n",
        "        super(MyModel, self).__init__()\n",
        "\n",
        "        # Encoder\n",
        "\n",
        "        self.input_conv = conv(3, 8)\n",
        "        self.down_1 = down(8, 16)\n",
        "        self.down_2 = down(16, 32)\n",
        "        self.down_3 = down(32, 64)\n",
        "        self.down_4 = down(64, 128)\n",
        "        self.down_5 = down(128, 256)\n",
        "        self.down_6 = down(256, 512)\n",
        "\n",
        "        # Decoder\n",
        "\n",
        "        self.up_1 = up(512, 256)\n",
        "        self.up_2 = up(256, 128)\n",
        "        self.up_3 = up(128, 64)\n",
        "        self.up_4 = up(64, 32)\n",
        "        self.up_5 = up(32, 16)\n",
        "        self.up_6 = up(16, 8)\n",
        "        self.up_7 = conv(8, 3)\n",
        "        self.output_conv = conv(3, 1, False) # ReLu activation is removed to keep the logits for the loss function\n",
        "\n",
        "        self.normal_1 = nn.BatchNorm2d(8)\n",
        "        self.normal_2 = nn.BatchNorm2d(16)\n",
        "        self.normal_3 = nn.BatchNorm2d(32)\n",
        "        self.normal_4 = nn.BatchNorm2d(64)\n",
        "        self.normal_5 = nn.BatchNorm2d(128)\n",
        "        self.normal_6 = nn.BatchNorm2d(256)\n",
        "\n",
        "    def forward(self, input):\n",
        "      y_1 = self.input_conv(input)\n",
        "      y_2 = self.down_1(y_1)\n",
        "      y_3 = self.down_2(y_2)\n",
        "      y_4 = self.down_3(y_3)\n",
        "      y_5 = self.down_4(y_4)\n",
        "      y_6 = self.down_5(y_5)\n",
        "      y_7 = self.down_6(y_6)\n",
        "      y_7 = self.normal_6(F.relu(self.up_1(y_7) + y_6))\n",
        "      y_6 = self.normal_5(F.relu(self.up_2(y_7) + y_5))\n",
        "      y_5 = self.normal_4(F.relu(self.up_3(y_6) + y_4))\n",
        "      y_4 = self.normal_3(F.relu(self.up_4(y_5) + y_3))\n",
        "      y_3 = self.normal_2(F.relu(self.up_5(y_4) + y_2))\n",
        "      y_2 = self.normal_1(F.relu(self.up_6(y_3) + y_1))\n",
        "      y = self.up_7(y_2)\n",
        "      output = self.output_conv(y)\n",
        "      return output"
      ]
    },
    {
      "cell_type": "markdown",
      "metadata": {
        "id": "rQj86vD9QT_Z"
      },
      "source": [
        "### Training"
      ]
    },
    {
      "cell_type": "code",
      "execution_count": null,
      "metadata": {
        "id": "MaZuO4SKSBuF"
      },
      "outputs": [],
      "source": [
        "'''\n",
        "# The following is a basic training procedure to train the network\n",
        "# You need to update the code to get the best performance\n",
        "# TODO: approx ? lines\n",
        "'''\n",
        "import matplotlib.pyplot as plt\n",
        "\n",
        "\n",
        "# Set the hyperparameters\n",
        "num_epochs = 10\n",
        "batch_size = 6\n",
        "learning_rate = 0.01\n",
        "weight_decay = 1e-5\n",
        "\n",
        "model = MyModel() # initialize the model\n",
        "model = model.cuda() # move the model to GPU\n",
        "loader, _ = get_plane_dataset('train', batch_size) # initialize data_loader\n",
        "crit = nn.BCEWithLogitsLoss() # Define the loss function\n",
        "optim = torch.optim.SGD(model.parameters(), lr=learning_rate, weight_decay=weight_decay) # Initialize the optimizer as SGD\n",
        "\n",
        "# start the training procedure\n",
        "losses = []\n",
        "lenData = len(loader)\n",
        "for epoch in range(num_epochs):\n",
        "  total_loss = 0\n",
        "  for (img, mask) in tqdm(loader):\n",
        "    img = torch.tensor(img, device=torch.device('cuda'), requires_grad = True)\n",
        "    mask = torch.tensor(mask, device=torch.device('cuda'), requires_grad = True)\n",
        "    pred = model(img)\n",
        "    loss = crit(pred, mask)\n",
        "    optim.zero_grad()\n",
        "    loss.backward()\n",
        "    optim.step()\n",
        "    total_loss += loss.cpu().data * img.size(0)\n",
        "  epoch_loss = (total_loss / lenData)\n",
        "  losses.append(epoch_loss)\n",
        "  print(\"Epoch: {}, Loss: {}\".format(epoch, total_loss/lenData))\n",
        "  torch.save(model.state_dict(), '{}/output/{}_segmentation_model.pth'.format(BASE_DIR, epoch))\n",
        "plt.plot(losses)\n",
        "'''\n",
        "# Saving the final model\n",
        "'''\n",
        "torch.save(model.state_dict(), '{}/output/final_segmentation_model.pth'.format(BASE_DIR))\n"
      ]
    },
    {
      "cell_type": "markdown",
      "metadata": {
        "id": "0dyez1fyQYw7"
      },
      "source": [
        "### Evaluation and Visualization"
      ]
    },
    {
      "cell_type": "code",
      "source": [],
      "metadata": {
        "id": "cn6_Hp89RUBp"
      },
      "execution_count": null,
      "outputs": []
    },
    {
      "cell_type": "code",
      "execution_count": null,
      "metadata": {
        "id": "TDeViryUSCL2"
      },
      "outputs": [],
      "source": [
        "'''\n",
        "# Before starting the evaluation, you need to set the model mode to eval\n",
        "# You may load the trained model again, in case if you want to continue your code later\n",
        "# TODO: approx 15 lines\n",
        "'''\n",
        "batch_size = 8\n",
        "model = MyModel().cuda()\n",
        "model.load_state_dict(torch.load('{}/output/final_segmentation_model.pth'.format(BASE_DIR)))\n",
        "model = model.eval() # chaning the model to evaluation mode will fix the bachnorm layers\n",
        "loader, dataset = get_plane_dataset('train', batch_size)\n",
        "import math\n",
        "def calcIou(pred, mask):\n",
        "  SMOOTH = 1 * math.e - 6\n",
        "  mask = mask.squeeze(1).int().cpu().numpy()\n",
        "  pred = pred.squeeze(1)\n",
        "  pred = torch.sigmoid(pred).cpu().numpy()\n",
        "  pred = (pred >= 0.5)\n",
        "\n",
        "  intersection = (pred & mask)\n",
        "  intersection = intersection.sum((1, 2))\n",
        "\n",
        "  union = (pred|mask)\n",
        "  union = union.sum((1, 2))\n",
        "\n",
        "  iou = (intersection + SMOOTH) / (union + SMOOTH)\n",
        "  return iou.mean()\n",
        "total_iou = 0\n",
        "numChecked = 0\n",
        "for (img, mask) in tqdm(loader):\n",
        "  with torch.no_grad():\n",
        "    img = img.cuda()\n",
        "    mask = mask.cuda()\n",
        "    pred = model(img)\n",
        "    total_iou = total_iou + calcIou(pred, mask)\n",
        "    numChecked+=1\n",
        "\n",
        "\n",
        "    '''\n",
        "    ## Complete the code by obtaining the IoU for each img and print the final Mean IoU\n",
        "    '''\n",
        "\n",
        "\n",
        "print(\"\\n #images: {}, Mean IoU: {}\".format(len(dataset), total_iou/numChecked))\n"
      ]
    },
    {
      "cell_type": "code",
      "execution_count": null,
      "metadata": {
        "id": "jbmTj9JICiKz"
      },
      "outputs": [],
      "source": [
        "'''\n",
        "# Visualize 3 sample outputs\n",
        "# TODO: approx 5 lines\n",
        "'''\n",
        "batch_size = 4\n",
        "loader, dataset = get_plane_dataset('train', batch_size)\n",
        "\n",
        "\n",
        "img, mask = next(iter(loader))\n",
        "with torch.no_grad():\n",
        "    img = img.cuda()\n",
        "    mask = mask.cpu().detach()\n",
        "    pred = model(img).cpu().detach()\n",
        "    for i in range(img.shape[0]):\n",
        "        newimg = transforms.ToPILImage()(img[i].cpu())\n",
        "        cv2_imshow(np.array(newimg))\n",
        "        predicted = np.rint(torch.sigmoid((pred[i])[0]))*255\n",
        "        masked = np.array(mask[i])[0]*255\n",
        "        predicted = np.array(predicted)\n",
        "        cv2_imshow(predicted)\n",
        "        cv2_imshow(masked)\n",
        "\n"
      ]
    },
    {
      "cell_type": "markdown",
      "metadata": {
        "id": "navoiGdrqaZT"
      },
      "source": [
        "## Part 3: Instance Segmentation\n",
        "\n",
        "In this part, you need to obtain the instance segmentation results for the test data by using the trained segmentation model in the previous part and the detection model in Part 1."
      ]
    },
    {
      "cell_type": "markdown",
      "metadata": {
        "id": "vBwk33DGBowP"
      },
      "source": [
        "### Get Prediction"
      ]
    },
    {
      "cell_type": "code",
      "execution_count": null,
      "metadata": {
        "id": "crrZ8TG-Ot2J"
      },
      "outputs": [],
      "source": [
        "'''\n",
        "# Define a new function to obtain the prediction mask by passing a sample data\n",
        "# For this part, you need to use all the previous parts (predictor, get_instance_sample, data preprocessings, etc)\n",
        "# It is better to keep everything (as well as the output of this funcion) on gpu as tensors to speed up the operations.\n",
        "# pred_mask is the instance segmentation result and should have different values for different planes.\n",
        "# TODO: approx 35 lines\n",
        "'''\n",
        "\n",
        "model = MyModel().cuda()\n",
        "model.load_state_dict(torch.load(\"{}/output/final_segmentation_model.pth\".format(BASE_DIR)))\n",
        "\n",
        "def get_prediction_mask(data):\n",
        "  img = cv2.imread(data[\"file_name\"])\n",
        "  imW = data[\"width\"]\n",
        "  imH = data[\"height\"]\n",
        "\n",
        "  ten_transforms = transforms.Compose([\n",
        "        transforms.ToTensor(),                                          # Converting the image to tensor and change the image format (Channels-Last => Channels-First)\n",
        "    ])\n",
        "\n",
        "  pred_mask = np.zeros((imH, imW))\n",
        "  gt_mask = np.zeros((imH, imW))\n",
        "\n",
        "  if data[\"annotations\"]:\n",
        "    for i in range(len(data[\"annotations\"])):\n",
        "      bboxData = data[\"annotations\"][i][\"bbox\"]\n",
        "      bx, by, bw, bh = [round(c) for c in bboxData]\n",
        "\n",
        "      bbox, temp_mask = get_instance_sample(data, i, img=None)\n",
        "      #different value for segmentation\n",
        "      gt_mask[by:by+bh, bx:bx+bw] = (i+1) * temp_mask\n",
        "      bboxPreds = predictor(img)\n",
        "      boxes = bboxPreds[\"instances\"].pred_boxes\n",
        "    for idx, b in enumerate(boxes):\n",
        "      x1, y1, x2, y2 = [round(item) for item in b.cpu().numpy().tolist()]\n",
        "      cropped = img[y1:y2, x1:x2, :]\n",
        "      cropped = cv2.resize(cropped, (128,128),interpolation = cv2.INTER_NEAREST)\n",
        "      cropped = ten_transforms(cropped).cuda()\n",
        "\n",
        "      temp_pred = torch.sigmoid(model(cropped.unsqueeze(0))).squeeze(1).squeeze(0)\n",
        "      temp_pred = temp_pred.detach().cpu().numpy()\n",
        "      #resize to fix bounding box again\n",
        "      temp_pred = cv2.resize(temp_pred, (x2-x1, y2-y1), interpolation=cv2.INTER_NEAREST)\n",
        "      #need to threshold\n",
        "      temp_pred = np.array(temp_pred >= 0.5, dtype = np.int64)\n",
        "      pred_mask[y1:y2, x1:x2] = (idx+1) * temp_pred\n",
        "  else:\n",
        "      bboxPreds = predictor(img)\n",
        "      boxes = bboxPreds[\"instances\"].pred_boxes\n",
        "\n",
        "      for idx, b, in enumerate(boxes):\n",
        "        #uses XYXY coords\n",
        "        x1, y1, x2, y2 = [round(item) for item in b.cpu().numpy().tolist()]\n",
        "        cropped = img[y1:y2, x1:x2, :]\n",
        "        cropped = cv2.resize(cropped, (128,128),interpolation = cv2.INTER_NEAREST)\n",
        "        cropped = ten_transforms(cropped).cuda()\n",
        "\n",
        "        temp_pred = torch.sigmoid(model(cropped.unsqueeze(0))).squeeze(1).squeeze(0)\n",
        "        temp_pred = temp_pred.detach().cpu().numpy()\n",
        "        #resize to fix bounding box again\n",
        "        temp_pred = cv2.resize(temp_pred, (x2-x1, y2-y1), interpolation=cv2.INTER_NEAREST)\n",
        "        #need to threshold\n",
        "        temp_pred = np.array(temp_pred >= 0.5, dtype = np.int64)\n",
        "        pred_mask[y1:y2, x1:x2] = (idx+1) * temp_pred\n",
        "\n",
        "\n",
        "\n",
        "\n",
        "\n",
        "\n",
        "  return img, gt_mask, torch.tensor(pred_mask, device = 'cuda') # gt_mask could be all zero when the ground truth is not given.\n"
      ]
    },
    {
      "cell_type": "markdown",
      "metadata": {
        "id": "fc7TSK6EBi9u"
      },
      "source": [
        "### Visualization and Submission"
      ]
    },
    {
      "cell_type": "code",
      "execution_count": null,
      "metadata": {
        "id": "H7T2YX8MBiGO"
      },
      "outputs": [],
      "source": [
        "'''\n",
        "# Visualise the output prediction as well as the GT Mask and Input image for a sample input\n",
        "# TODO: approx 10 lines\n",
        "'''\n",
        "import matplotlib.pyplot as plt\n",
        "fig, axs = plt.subplots(nrows=3, ncols=3, figsize=(20, 15))\n",
        "fig.suptitle(\"Visualizing test set\", fontsize=16)\n",
        "\n",
        "axs[0][0].set_title(\"Image\")\n",
        "axs[0][1].set_title(\"Segmentation\")\n",
        "axs[0][2].set_title(\"Prediction\")\n",
        "\n",
        "random_test = [item for item in random.sample(DatasetCatalog.get(\"data_detection_test\"), 3)]\n",
        "\n",
        "for idx in range(3):\n",
        "    img, gt_mask, pred_mask = get_prediction_mask(random_test[idx])\n",
        "\n",
        "    axs[idx][0].imshow(img)\n",
        "    axs[idx][1].imshow(gt_mask)\n",
        "    axs[idx][2].imshow(pred_mask.cpu())\n",
        "\n",
        "    axs[idx][0].set_xticks([])\n",
        "    axs[idx][0].set_yticks([])\n",
        "    axs[idx][1].set_xticks([])\n",
        "    axs[idx][1].set_yticks([])\n",
        "    axs[idx][2].set_xticks([])\n",
        "    axs[idx][2].set_yticks([])\n",
        "\n"
      ]
    },
    {
      "cell_type": "code",
      "execution_count": null,
      "metadata": {
        "id": "uPo_03up-g_f"
      },
      "outputs": [],
      "source": [
        "'''\n",
        "# ref: https://www.kaggle.com/rakhlin/fast-run-length-encoding-python\n",
        "# https://www.kaggle.com/c/airbus-ship-detection/overview/evaluation\n",
        "'''\n",
        "def rle_encoding(x):\n",
        "    '''\n",
        "    x: pytorch tensor on gpu, 1 - mask, 0 - background\n",
        "    Returns run length as list\n",
        "    '''\n",
        "    dots = torch.where(torch.flatten(x.long())==1)[0]\n",
        "    if(len(dots)==0):\n",
        "      return []\n",
        "    inds = torch.where(dots[1:]!=dots[:-1]+1)[0]+1\n",
        "    inds = torch.cat((torch.tensor([0], device=torch.device('cuda'), dtype=torch.long), inds))\n",
        "    tmpdots = dots[inds]\n",
        "    inds = torch.cat((inds, torch.tensor([len(dots)], device=torch.device('cuda'))))\n",
        "    inds = inds[1:] - inds[:-1]\n",
        "    runs = torch.cat((tmpdots, inds)).reshape((2,-1))\n",
        "    runs = torch.flatten(torch.transpose(runs, 0, 1)).cpu().data.numpy()\n",
        "    return ' '.join([str(i) for i in runs])"
      ]
    },
    {
      "cell_type": "code",
      "execution_count": null,
      "metadata": {
        "id": "zv0rab2LJev-"
      },
      "outputs": [],
      "source": [
        "'''\n",
        "# You need to upload the csv file on kaggle\n",
        "# The speed of your code in the previous parts highly affects the running time of this part\n",
        "'''\n",
        "\n",
        "preddic = {\"ImageId\": [], \"EncodedPixels\": []}\n",
        "\n",
        "'''\n",
        "# Writing the predictions of the training set\n",
        "'''\n",
        "my_data_list = DatasetCatalog.get(\"data_detection_{}\".format('train'))\n",
        "for i in tqdm(range(len(my_data_list)), position=0, leave=True):\n",
        "  sample = my_data_list[i]\n",
        "  sample['image_id'] = sample['file_name'].split(\"/\")[-1][:-4]\n",
        "  img, true_mask, pred_mask = get_prediction_mask(sample)\n",
        "  inds = torch.unique(pred_mask)\n",
        "  if(len(inds)==1):\n",
        "    preddic['ImageId'].append(sample['image_id'])\n",
        "    preddic['EncodedPixels'].append([])\n",
        "  else:\n",
        "    for index in inds:\n",
        "      if(index == 0):\n",
        "        continue\n",
        "      tmp_mask = (pred_mask==index)\n",
        "      encPix = rle_encoding(tmp_mask)\n",
        "      preddic['ImageId'].append(sample['image_id'])\n",
        "      preddic['EncodedPixels'].append(encPix)\n",
        "#clear training stuff out of cache\n",
        "cIms.clear()\n",
        "#cache the val data for speed\n",
        "for t in valData:\n",
        "  if(t[\"file_name\"] not in addedToCache):\n",
        "    im = cv2.imread(t[\"file_name\"])\n",
        "    addedToCache.append(t[\"file_name\"])\n",
        "    cIms[t[\"file_name\"]] = im\n",
        "#predictions for val set\n",
        "my_data_list = DatasetCatalog.get(\"data_detection_{}\".format('val'))\n",
        "for i in tqdm(range(len(my_data_list)), position=0, leave=True):\n",
        "  sample = my_data_list[i]\n",
        "  sample['image_id'] = sample['file_name'].split(\"/\")[-1][:-4]\n",
        "  img, true_mask, pred_mask = get_prediction_mask(sample)\n",
        "  inds = torch.unique(pred_mask)\n",
        "  if(len(inds)==1):\n",
        "    preddic['ImageId'].append(sample['image_id'])\n",
        "    preddic['EncodedPixels'].append([])\n",
        "  else:\n",
        "    for index in inds:\n",
        "      if(index == 0):\n",
        "        continue\n",
        "      tmp_mask = (pred_mask==index)\n",
        "      encPix = rle_encoding(tmp_mask)\n",
        "      preddic['ImageId'].append(sample['image_id'])\n",
        "      preddic['EncodedPixels'].append(encPix)\n",
        "\n",
        "\n",
        "'''\n",
        "# Writing the predictions of the test set\n",
        "'''\n",
        "\n",
        "my_data_list = DatasetCatalog.get(\"data_detection_{}\".format('test'))\n",
        "for i in tqdm(range(len(my_data_list)), position=0, leave=True):\n",
        "  sample = my_data_list[i]\n",
        "  sample['image_id'] = sample['file_name'].split(\"/\")[-1][:-4]\n",
        "  img, true_mask, pred_mask = get_prediction_mask(sample)\n",
        "  inds = torch.unique(pred_mask)\n",
        "  if(len(inds)==1):\n",
        "    preddic['ImageId'].append(sample['image_id'])\n",
        "    preddic['EncodedPixels'].append([])\n",
        "  else:\n",
        "    for j, index in enumerate(inds):\n",
        "      if(index == 0):\n",
        "        continue\n",
        "      tmp_mask = (pred_mask==index).double()\n",
        "      encPix = rle_encoding(tmp_mask)\n",
        "      preddic['ImageId'].append(sample['image_id'])\n",
        "      preddic['EncodedPixels'].append(encPix)\n",
        "\n",
        "pred_file = open(\"{}/pred.csv\".format(BASE_DIR), 'w')\n",
        "pd.DataFrame(preddic).to_csv(pred_file, index=False)\n",
        "pred_file.close()\n"
      ]
    },
    {
      "cell_type": "markdown",
      "metadata": {
        "id": "p7nN4SduqrpI"
      },
      "source": [
        "## Part 4: Mask R-CNN\n",
        "\n",
        "For this part you need to follow a same procedure to part 2 with the configs of Mask R-CNN, other parts are generally the same as part 2."
      ]
    },
    {
      "cell_type": "markdown",
      "metadata": {
        "id": "axWf7drKNXYd"
      },
      "source": [
        "### Data Loader"
      ]
    },
    {
      "cell_type": "code",
      "execution_count": null,
      "metadata": {
        "id": "yC1FDCcQN2LH"
      },
      "outputs": [],
      "source": [
        "#reuse the data loader from the previous parts\n",
        "cIms.clear()"
      ]
    },
    {
      "cell_type": "markdown",
      "metadata": {
        "id": "lG5slAhQNjE7"
      },
      "source": [
        "### Network"
      ]
    },
    {
      "cell_type": "code",
      "execution_count": null,
      "metadata": {
        "id": "KG1pnKLMOcjS"
      },
      "outputs": [],
      "source": [
        "from detectron2.engine import DefaultTrainer\n",
        "\n",
        "cfg = get_cfg()\n",
        "cfg.merge_from_file(model_zoo.get_config_file(\"COCO-InstanceSegmentation/mask_rcnn_R_50_FPN_3x.yaml\"))\n",
        "cfg.DATASETS.TRAIN = (\"data_detection_train\",)\n",
        "cfg.DATASETS.TEST = ()\n",
        "cfg.DATALOADER.NUM_WORKERS = 2\n",
        "cfg.MODEL.WEIGHTS = model_zoo.get_checkpoint_url(\"COCO-InstanceSegmentation/mask_rcnn_R_50_FPN_3x.yaml\")  # Let training initialize from model zoo\n",
        "cfg.SOLVER.IMS_PER_BATCH = 2\n",
        "cfg.SOLVER.BASE_LR = 0.0025  # pick a good LR\n",
        "cfg.SOLVER.MAX_ITER = 500    # 300 iterations seems good enough for this toy dataset; you will need to train longer for a practical dataset\n",
        "cfg.MODEL.ROI_HEADS.BATCH_SIZE_PER_IMAGE = 512   # faster, and good enough for this toy dataset (default: 512)\n",
        "cfg.MODEL.ROI_HEADS.NUM_CLASSES = 1  # only has one class (ballon). (see https://detectron2.readthedocs.io/tutorials/datasets.html#update-the-config-for-new-datasets)\n",
        "cfg.OUTPUT_DIR = f\"{BASE_DIR}/output/\"\n",
        "os.makedirs(cfg.OUTPUT_DIR, exist_ok=True)"
      ]
    },
    {
      "cell_type": "markdown",
      "metadata": {
        "id": "t7ifeV1sNvtt"
      },
      "source": [
        "### Training"
      ]
    },
    {
      "cell_type": "code",
      "execution_count": null,
      "metadata": {
        "id": "tc4K0Nz5OeKk"
      },
      "outputs": [],
      "source": [
        "trainer = DefaultTrainer(cfg)\n",
        "trainer.resume_or_load(resume=False)\n",
        "trainer.train()\n",
        "cfg.MODEL.WEIGHTS = os.path.join(cfg.OUTPUT_DIR, \"model_final.pth\")  # path to the model we just trained\n",
        "cfg.MODEL.ROI_HEADS.SCORE_THRESH_TEST = 0.6   # set a custom testing threshold\n",
        "predictor = DefaultPredictor(cfg)"
      ]
    },
    {
      "cell_type": "markdown",
      "metadata": {
        "id": "298QruFnNxyn"
      },
      "source": [
        "### Evaluation and Visualization"
      ]
    },
    {
      "cell_type": "code",
      "execution_count": null,
      "metadata": {
        "id": "KcGwV5-9Oetp"
      },
      "outputs": [],
      "source": [
        "from detectron2.utils.visualizer import ColorMode\n",
        "dataset_dicts = get_detection_data(\"val\")\n",
        "for d in random.sample(dataset_dicts, 3):\n",
        "    im = cv2.imread(d[\"file_name\"])\n",
        "    outputs = predictor(im)  # format is documented at https://detectron2.readthedocs.io/tutorials/models.html#model-output-format\n",
        "    v = Visualizer(im[:, :, ::-1],\n",
        "                   metadata=mData,\n",
        "                   scale=0.2,\n",
        "                   instance_mode=ColorMode.IMAGE_BW   # remove the colors of unsegmented pixels. This option is only available for segmentation models\n",
        "    )\n",
        "    out = v.draw_instance_predictions(outputs[\"instances\"].to(\"cpu\"))\n",
        "    cv2_imshow(out.get_image()[:, :, ::-1])"
      ]
    },
    {
      "cell_type": "code",
      "execution_count": null,
      "metadata": {
        "id": "l_3wS2BFLLGp"
      },
      "outputs": [],
      "source": [
        "from detectron2.evaluation import COCOEvaluator, inference_on_dataset\n",
        "from detectron2.data import build_detection_test_loader\n",
        "evaluator = COCOEvaluator(\"data_detection_val\", cfg, False, output_dir=cfg.OUTPUT_DIR)\n",
        "val_loader = build_detection_test_loader(cfg, \"data_detection_val\")\n",
        "print(inference_on_dataset(trainer.model, val_loader, evaluator))"
      ]
    }
  ],
  "metadata": {
    "accelerator": "GPU",
    "colab": {
      "provenance": [],
      "gpuType": "T4"
    },
    "kernelspec": {
      "display_name": "Python 3",
      "name": "python3"
    }
  },
  "nbformat": 4,
  "nbformat_minor": 0
}